{
 "cells": [
  {
   "cell_type": "markdown",
   "metadata": {},
   "source": [
    "# Summary\n",
    "\n",
    "This example getting and putting files to MinIO using reusable components.  \n",
    "Credentials are set up both automatically (inferred from environment of the running container) and by hard-coding.\n",
    "\n",
    "**WARNING:** This may overwrite any file you have in your own MinIO instance at `(standard minio tenant/)namespace/tmp/minio_get_put/(todays_date_and_time)/hello_world_*.txt` (it is timestamped at time of pipeline **compile** so likely only will overwrite something if you run the same compiled pipeline twice.  "
   ]
  },
  {
   "cell_type": "code",
   "execution_count": 1,
   "metadata": {
    "execution": {
     "iopub.execute_input": "2021-01-05T21:40:18.828972Z",
     "iopub.status.busy": "2021-01-05T21:40:18.828743Z",
     "iopub.status.idle": "2021-01-05T21:40:18.831735Z",
     "shell.execute_reply": "2021-01-05T21:40:18.831134Z",
     "shell.execute_reply.started": "2021-01-05T21:40:18.828949Z"
    }
   },
   "outputs": [],
   "source": [
    "# TODO:\n",
    "# print_op = load_component_from_file('./print_op.yaml')"
   ]
  },
  {
   "cell_type": "code",
   "execution_count": 2,
   "metadata": {
    "execution": {
     "iopub.execute_input": "2021-01-05T21:40:18.834724Z",
     "iopub.status.busy": "2021-01-05T21:40:18.834544Z",
     "iopub.status.idle": "2021-01-05T21:40:19.502875Z",
     "shell.execute_reply": "2021-01-05T21:40:19.502150Z",
     "shell.execute_reply.started": "2021-01-05T21:40:18.834705Z"
    }
   },
   "outputs": [],
   "source": [
    "import kfp\n",
    "from kfp import dsl, compiler\n",
    "from kfp.components import load_component_from_file, load_component_from_url\n",
    "import datetime"
   ]
  },
  {
   "cell_type": "code",
   "execution_count": 3,
   "metadata": {
    "execution": {
     "iopub.execute_input": "2021-01-05T21:40:19.504127Z",
     "iopub.status.busy": "2021-01-05T21:40:19.503867Z",
     "iopub.status.idle": "2021-01-05T21:40:19.546834Z",
     "shell.execute_reply": "2021-01-05T21:40:19.545963Z",
     "shell.execute_reply.started": "2021-01-05T21:40:19.504101Z"
    }
   },
   "outputs": [],
   "source": [
    "get_from_minio = load_component_from_file('./get_from_minio/component.yaml')\n",
    "put_to_minio = load_component_from_file('./put_to_minio/component.yaml')"
   ]
  },
  {
   "cell_type": "code",
   "execution_count": 4,
   "metadata": {
    "execution": {
     "iopub.execute_input": "2021-01-05T21:40:19.547862Z",
     "iopub.status.busy": "2021-01-05T21:40:19.547674Z",
     "iopub.status.idle": "2021-01-05T21:40:19.553618Z",
     "shell.execute_reply": "2021-01-05T21:40:19.552878Z",
     "shell.execute_reply.started": "2021-01-05T21:40:19.547841Z"
    }
   },
   "outputs": [],
   "source": [
    "# Helper\n",
    "def get_current_namespace():\n",
    "    import kubernetes\n",
    "    kubernetes.config.load_incluster_config()\n",
    "    kube_client = kubernetes.client.CoreV1Api()\n",
    "    current_namespace = open(\"/var/run/secrets/kubernetes.io/serviceaccount/namespace\").read()\n",
    "    return current_namespace\n",
    "\n",
    "\n",
    "NAMESPACE = get_current_namespace()\n",
    "timestamp = datetime.datetime.now().strftime(\"%Y-%m-%d_%H-%M-%S\")\n",
    "WRITE_PATH = f\"{NAMESPACE}/tmp/minio_get_put/{timestamp}\""
   ]
  },
  {
   "cell_type": "code",
   "execution_count": 5,
   "metadata": {
    "execution": {
     "iopub.execute_input": "2021-01-05T21:40:19.554664Z",
     "iopub.status.busy": "2021-01-05T21:40:19.554464Z",
     "iopub.status.idle": "2021-01-05T21:40:19.563611Z",
     "shell.execute_reply": "2021-01-05T21:40:19.562528Z",
     "shell.execute_reply.started": "2021-01-05T21:40:19.554643Z"
    }
   },
   "outputs": [],
   "source": [
    "def pipeline():\n",
    "    operations = {}\n",
    "\n",
    "    # Get a file from shared minio location\n",
    "    # Uses :\n",
    "    #   * default tenant (standard)\n",
    "    #   * credentials initialized from the environment (should be able to\n",
    "    #     any MinIO content the namespace the pipeline is run from can access)\n",
    "    # Replace source with any file you can access in MinIO\n",
    "    operations['Get file with default credentials from standard'] = get_from_minio(\n",
    "        source=\"shared/andrew-scribner/demos/minio/hello_world.txt\",\n",
    "    )\n",
    "\n",
    "    # Put this file back into MinIO in a new location\n",
    "    operations['Copy file to standard using default credentials'] = put_to_minio(\n",
    "        source=operations['Get file with default credentials from standard'].outputs['data'],\n",
    "        target=f\"{WRITE_PATH}/hello_world_standard_inferred.txt\",\n",
    "    )\n",
    "    \n",
    "    # Copy with incorrect tenant but provides credentials (works)\n",
    "    \n",
    "    # Copy with incorrect tenant and missing a credential (does not work, fails at minio)\n",
    "    \n",
    "    # Copy with correct tenant, no creds (works)\n",
    "    \n",
    "    # copy with correct tenant, creds for a different tenant (works and writes to second tenant)"
   ]
  },
  {
   "cell_type": "code",
   "execution_count": 6,
   "metadata": {
    "execution": {
     "iopub.execute_input": "2021-01-05T21:40:19.565476Z",
     "iopub.status.busy": "2021-01-05T21:40:19.565269Z",
     "iopub.status.idle": "2021-01-05T21:40:19.596347Z",
     "shell.execute_reply": "2021-01-05T21:40:19.595193Z",
     "shell.execute_reply.started": "2021-01-05T21:40:19.565454Z"
    }
   },
   "outputs": [],
   "source": [
    "c = kfp.Client()"
   ]
  },
  {
   "cell_type": "code",
   "execution_count": 7,
   "metadata": {
    "execution": {
     "iopub.execute_input": "2021-01-05T21:40:19.597807Z",
     "iopub.status.busy": "2021-01-05T21:40:19.597588Z",
     "iopub.status.idle": "2021-01-05T21:40:19.919493Z",
     "shell.execute_reply": "2021-01-05T21:40:19.918877Z",
     "shell.execute_reply.started": "2021-01-05T21:40:19.597785Z"
    }
   },
   "outputs": [
    {
     "data": {
      "text/html": [
       "<a href=\"/_/pipeline/#/experiments/details/accc6821-d8c4-4413-a548-1c94254827f2\" target=\"_blank\" >Experiment details</a>."
      ],
      "text/plain": [
       "<IPython.core.display.HTML object>"
      ]
     },
     "metadata": {},
     "output_type": "display_data"
    },
    {
     "data": {
      "text/html": [
       "<a href=\"/_/pipeline/#/runs/details/c3412542-b175-42c2-bff1-5f10c44c2860\" target=\"_blank\" >Run details</a>."
      ],
      "text/plain": [
       "<IPython.core.display.HTML object>"
      ]
     },
     "metadata": {},
     "output_type": "display_data"
    },
    {
     "data": {
      "text/plain": [
       "RunPipelineResult(run_id=c3412542-b175-42c2-bff1-5f10c44c2860)"
      ]
     },
     "execution_count": 7,
     "metadata": {},
     "output_type": "execute_result"
    }
   ],
   "source": [
    "c.create_run_from_pipeline_func(\n",
    "    pipeline,\n",
    "    arguments={},\n",
    "    run_name=\"test copy_to_minio\",\n",
    "    namespace='andrew-scribner',\n",
    "    )"
   ]
  },
  {
   "cell_type": "code",
   "execution_count": null,
   "metadata": {},
   "outputs": [],
   "source": []
  }
 ],
 "metadata": {
  "kernelspec": {
   "display_name": "Python 3",
   "language": "python",
   "name": "python3"
  },
  "language_info": {
   "codemirror_mode": {
    "name": "ipython",
    "version": 3
   },
   "file_extension": ".py",
   "mimetype": "text/x-python",
   "name": "python",
   "nbconvert_exporter": "python",
   "pygments_lexer": "ipython3",
   "version": "3.8.6"
  }
 },
 "nbformat": 4,
 "nbformat_minor": 4
}
