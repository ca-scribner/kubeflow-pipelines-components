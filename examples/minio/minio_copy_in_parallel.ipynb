{
 "cells": [
  {
   "cell_type": "code",
   "execution_count": 1,
   "metadata": {
    "execution": {
     "iopub.execute_input": "2021-01-13T20:01:27.153111Z",
     "iopub.status.busy": "2021-01-13T20:01:27.152741Z",
     "iopub.status.idle": "2021-01-13T20:01:27.931033Z",
     "shell.execute_reply": "2021-01-13T20:01:27.929981Z",
     "shell.execute_reply.started": "2021-01-13T20:01:27.153055Z"
    }
   },
   "outputs": [],
   "source": [
    "import kfp\n",
    "from kfp.components import load_component_from_url\n",
    "import datetime"
   ]
  },
  {
   "cell_type": "markdown",
   "metadata": {
    "tags": []
   },
   "source": [
    "# Settings"
   ]
  },
  {
   "cell_type": "code",
   "execution_count": 2,
   "metadata": {
    "execution": {
     "iopub.execute_input": "2021-01-13T20:01:27.932621Z",
     "iopub.status.busy": "2021-01-13T20:01:27.932403Z",
     "iopub.status.idle": "2021-01-13T20:01:27.936599Z",
     "shell.execute_reply": "2021-01-13T20:01:27.935754Z",
     "shell.execute_reply.started": "2021-01-13T20:01:27.932597Z"
    }
   },
   "outputs": [],
   "source": [
    "n_parallel_writes = 10\n",
    "filesize_per_write = \"200M\"  # (in fallocate -l format, eg 200M, 3G, ...)"
   ]
  },
  {
   "cell_type": "markdown",
   "metadata": {
    "tags": []
   },
   "source": [
    "# Define components and pipeline"
   ]
  },
  {
   "cell_type": "code",
   "execution_count": 3,
   "metadata": {
    "execution": {
     "iopub.execute_input": "2021-01-13T20:01:27.941850Z",
     "iopub.status.busy": "2021-01-13T20:01:27.941564Z",
     "iopub.status.idle": "2021-01-13T20:01:28.075252Z",
     "shell.execute_reply": "2021-01-13T20:01:28.074080Z",
     "shell.execute_reply.started": "2021-01-13T20:01:27.941818Z"
    }
   },
   "outputs": [],
   "source": [
    "create_junk = load_component_from_url(\"https://raw.githubusercontent.com/ca-scribner/kubeflow-pipelines-components/master/components/files/create_junk/component.yaml\")\n",
    "put_to_minio = load_component_from_url(\"https://raw.githubusercontent.com/ca-scribner/kubeflow-pipelines-components/master/components/minio/put_to_minio/component.yaml\")"
   ]
  },
  {
   "cell_type": "code",
   "execution_count": 4,
   "metadata": {
    "execution": {
     "iopub.execute_input": "2021-01-13T20:01:28.076684Z",
     "iopub.status.busy": "2021-01-13T20:01:28.076445Z",
     "iopub.status.idle": "2021-01-13T20:01:28.116969Z",
     "shell.execute_reply": "2021-01-13T20:01:28.116037Z",
     "shell.execute_reply.started": "2021-01-13T20:01:28.076659Z"
    }
   },
   "outputs": [],
   "source": [
    "@kfp.components.create_component_from_func\n",
    "def range_component(start: int=0, stop: int=None, step: int=1) -> list:\n",
    "    \"\"\"Operates like Python's range, but in kfp as a component\"\"\"\n",
    "    if stop is None:\n",
    "        raise ValueError(f\"Invalid value '{stop}' for stop\")\n",
    "    return list(range(int(start), int(stop), step))"
   ]
  },
  {
   "cell_type": "code",
   "execution_count": 5,
   "metadata": {
    "execution": {
     "iopub.execute_input": "2021-01-13T20:01:28.118595Z",
     "iopub.status.busy": "2021-01-13T20:01:28.118295Z",
     "iopub.status.idle": "2021-01-13T20:01:28.125892Z",
     "shell.execute_reply": "2021-01-13T20:01:28.124837Z",
     "shell.execute_reply.started": "2021-01-13T20:01:28.118560Z"
    }
   },
   "outputs": [],
   "source": [
    "def get_current_namespace():\n",
    "    import kubernetes\n",
    "    kubernetes.config.load_incluster_config()\n",
    "    kube_client = kubernetes.client.CoreV1Api()\n",
    "    current_namespace = open(\"/var/run/secrets/kubernetes.io/serviceaccount/namespace\").read()\n",
    "    return current_namespace\n",
    "namespace = get_current_namespace()"
   ]
  },
  {
   "cell_type": "code",
   "execution_count": 9,
   "metadata": {
    "execution": {
     "iopub.execute_input": "2021-01-13T20:01:48.085997Z",
     "iopub.status.busy": "2021-01-13T20:01:48.085606Z",
     "iopub.status.idle": "2021-01-13T20:01:48.092248Z",
     "shell.execute_reply": "2021-01-13T20:01:48.091051Z",
     "shell.execute_reply.started": "2021-01-13T20:01:48.085955Z"
    }
   },
   "outputs": [],
   "source": [
    "def pipeline(n_writes: int=10, filesize_per_write: str=\"200M\"):\n",
    "    data = create_junk(size=filesize_per_write)\n",
    "\n",
    "    iterations = range_component(stop=n_writes)\n",
    "\n",
    "    with kfp.dsl.ParallelFor(iterations.output) as iteration:\n",
    "        put_to_minio(\n",
    "            source=data.output,\n",
    "            target=f'{namespace}/debug_minio/{kfp.dsl.RUN_ID_PLACEHOLDER}/{iteration}',\n",
    "            tenant='standard',\n",
    "        )"
   ]
  },
  {
   "cell_type": "markdown",
   "metadata": {
    "tags": []
   },
   "source": [
    "# Run pipeline"
   ]
  },
  {
   "cell_type": "code",
   "execution_count": 10,
   "metadata": {
    "execution": {
     "iopub.execute_input": "2021-01-13T20:01:48.355572Z",
     "iopub.status.busy": "2021-01-13T20:01:48.355297Z",
     "iopub.status.idle": "2021-01-13T20:01:48.361440Z",
     "shell.execute_reply": "2021-01-13T20:01:48.360632Z",
     "shell.execute_reply.started": "2021-01-13T20:01:48.355546Z"
    }
   },
   "outputs": [],
   "source": [
    "c = kfp.Client()"
   ]
  },
  {
   "cell_type": "code",
   "execution_count": 11,
   "metadata": {
    "execution": {
     "iopub.execute_input": "2021-01-13T20:01:48.708761Z",
     "iopub.status.busy": "2021-01-13T20:01:48.708388Z",
     "iopub.status.idle": "2021-01-13T20:01:49.075205Z",
     "shell.execute_reply": "2021-01-13T20:01:49.074273Z",
     "shell.execute_reply.started": "2021-01-13T20:01:48.708723Z"
    }
   },
   "outputs": [
    {
     "data": {
      "text/html": [
       "<a href=\"/_/pipeline/#/experiments/details/a8fdf7ac-4709-47fb-9231-751a431a9959\" target=\"_blank\" >Experiment details</a>."
      ],
      "text/plain": [
       "<IPython.core.display.HTML object>"
      ]
     },
     "metadata": {},
     "output_type": "display_data"
    },
    {
     "data": {
      "text/html": [
       "<a href=\"/_/pipeline/#/runs/details/8e0069d6-3409-40ef-bafe-536798d72167\" target=\"_blank\" >Run details</a>."
      ],
      "text/plain": [
       "<IPython.core.display.HTML object>"
      ]
     },
     "metadata": {},
     "output_type": "display_data"
    },
    {
     "data": {
      "text/plain": [
       "RunPipelineResult(run_id=8e0069d6-3409-40ef-bafe-536798d72167)"
      ]
     },
     "execution_count": 11,
     "metadata": {},
     "output_type": "execute_result"
    }
   ],
   "source": [
    "now = datetime.datetime.now().strftime(\"%Y-%m-%d_%H:%M:%S\")\n",
    "c.create_run_from_pipeline_func(\n",
    "    pipeline,\n",
    "    arguments={'n_writes': n_parallel_writes, 'filesize_per_write': filesize_per_write},\n",
    "    run_name=f'MinIO Parallel Writes Test ({namespace}/{now})',\n",
    "    experiment_name=f'MinIO Parallel Writes Test',\n",
    "    namespace=namespace\n",
    "\n",
    ")"
   ]
  },
  {
   "cell_type": "code",
   "execution_count": null,
   "metadata": {},
   "outputs": [],
   "source": []
  }
 ],
 "metadata": {
  "kernelspec": {
   "display_name": "Python 3",
   "language": "python",
   "name": "python3"
  },
  "kubeflow_notebook": {
   "autosnapshot": false,
   "docker_image": "k8scc01covidacr.azurecr.io/jupyterlab-pytorch:c9451340",
   "experiment": {
    "id": "",
    "name": ""
   },
   "experiment_name": "",
   "katib_metadata": {
    "algorithm": {
     "algorithmName": "grid"
    },
    "maxFailedTrialCount": 3,
    "maxTrialCount": 12,
    "objective": {
     "objectiveMetricName": "",
     "type": "minimize"
    },
    "parallelTrialCount": 3,
    "parameters": []
   },
   "katib_run": false,
   "pipeline_description": "",
   "pipeline_name": "",
   "snapshot_volumes": false,
   "steps_defaults": [],
   "volume_access_mode": "rwm",
   "volumes": []
  },
  "language_info": {
   "codemirror_mode": {
    "name": "ipython",
    "version": 3
   },
   "file_extension": ".py",
   "mimetype": "text/x-python",
   "name": "python",
   "nbconvert_exporter": "python",
   "pygments_lexer": "ipython3",
   "version": "3.8.6"
  }
 },
 "nbformat": 4,
 "nbformat_minor": 4
}
