{
 "cells": [
  {
   "cell_type": "code",
   "execution_count": 1,
   "metadata": {
    "execution": {
     "iopub.execute_input": "2021-01-13T19:43:06.962146Z",
     "iopub.status.busy": "2021-01-13T19:43:06.961655Z",
     "iopub.status.idle": "2021-01-13T19:43:07.987875Z",
     "shell.execute_reply": "2021-01-13T19:43:07.987128Z",
     "shell.execute_reply.started": "2021-01-13T19:43:06.962050Z"
    }
   },
   "outputs": [],
   "source": [
    "import kfp\n",
    "from kfp.components import load_component_from_url\n",
    "import datetime"
   ]
  },
  {
   "cell_type": "markdown",
   "metadata": {
    "tags": []
   },
   "source": [
    "# Settings"
   ]
  },
  {
   "cell_type": "code",
   "execution_count": null,
   "metadata": {},
   "outputs": [],
   "source": [
    "n_parallel_writes = 10\n",
    "filesize_per_write = \"200M\"  # (in fallocate -l format, eg 200M, 3G, ...)"
   ]
  },
  {
   "cell_type": "markdown",
   "metadata": {
    "tags": []
   },
   "source": [
    "# Define components and pipeline"
   ]
  },
  {
   "cell_type": "code",
   "execution_count": 2,
   "metadata": {
    "execution": {
     "iopub.execute_input": "2021-01-13T19:43:07.990046Z",
     "iopub.status.busy": "2021-01-13T19:43:07.989811Z",
     "iopub.status.idle": "2021-01-13T19:43:08.431407Z",
     "shell.execute_reply": "2021-01-13T19:43:08.430591Z",
     "shell.execute_reply.started": "2021-01-13T19:43:07.990016Z"
    }
   },
   "outputs": [],
   "source": [
    "create_junk = load_component_from_url(\"https://raw.githubusercontent.com/ca-scribner/kubeflow-pipelines-components/master/components/files/create_junk/component.yaml\")\n",
    "put_to_minio = load_component_from_url(\"https://raw.githubusercontent.com/ca-scribner/kubeflow-pipelines-components/master/components/minio/put_to_minio/component.yaml\")"
   ]
  },
  {
   "cell_type": "code",
   "execution_count": 3,
   "metadata": {
    "execution": {
     "iopub.execute_input": "2021-01-13T19:43:08.437315Z",
     "iopub.status.busy": "2021-01-13T19:43:08.437086Z",
     "iopub.status.idle": "2021-01-13T19:43:08.483110Z",
     "shell.execute_reply": "2021-01-13T19:43:08.481851Z",
     "shell.execute_reply.started": "2021-01-13T19:43:08.437284Z"
    }
   },
   "outputs": [],
   "source": [
    "@kfp.components.create_component_from_func\n",
    "def range_component(start: int=0, stop: int=None, step: int=1) -> list:\n",
    "    \"\"\"Operates like Python's range, but in kfp as a component\"\"\"\n",
    "    if stop is None:\n",
    "        raise ValueError(f\"Invalid value '{stop}' for stop\")\n",
    "    return list(range(int(start), int(stop), step))"
   ]
  },
  {
   "cell_type": "code",
   "execution_count": 4,
   "metadata": {
    "execution": {
     "iopub.execute_input": "2021-01-13T19:43:08.484413Z",
     "iopub.status.busy": "2021-01-13T19:43:08.484206Z",
     "iopub.status.idle": "2021-01-13T19:43:08.489772Z",
     "shell.execute_reply": "2021-01-13T19:43:08.488736Z",
     "shell.execute_reply.started": "2021-01-13T19:43:08.484390Z"
    }
   },
   "outputs": [],
   "source": [
    "def get_current_namespace():\n",
    "    import kubernetes\n",
    "    kubernetes.config.load_incluster_config()\n",
    "    kube_client = kubernetes.client.CoreV1Api()\n",
    "    current_namespace = open(\"/var/run/secrets/kubernetes.io/serviceaccount/namespace\").read()\n",
    "    return current_namespace\n",
    "namespace = get_current_namespace()"
   ]
  },
  {
   "cell_type": "code",
   "execution_count": 5,
   "metadata": {
    "execution": {
     "iopub.execute_input": "2021-01-13T19:43:08.491010Z",
     "iopub.status.busy": "2021-01-13T19:43:08.490730Z",
     "iopub.status.idle": "2021-01-13T19:43:08.507408Z",
     "shell.execute_reply": "2021-01-13T19:43:08.506133Z",
     "shell.execute_reply.started": "2021-01-13T19:43:08.490974Z"
    }
   },
   "outputs": [],
   "source": [
    "def pipeline(n_writes):\n",
    "    data = create_junk(size=\"200M\")\n",
    "\n",
    "    iterations = range_component(stop=n_writes)\n",
    "\n",
    "    with kfp.dsl.ParallelFor(iterations.output) as iteration:\n",
    "        put_to_minio(\n",
    "            source=data.output,\n",
    "            target=f'{namespace}/debug_minio/{kfp.dsl.RUN_ID_PLACEHOLDER}/{iteration}',\n",
    "            tenant='standard',\n",
    "        )"
   ]
  },
  {
   "cell_type": "markdown",
   "metadata": {
    "tags": []
   },
   "source": [
    "# Run pipeline"
   ]
  },
  {
   "cell_type": "code",
   "execution_count": 6,
   "metadata": {
    "execution": {
     "iopub.execute_input": "2021-01-13T19:43:08.509235Z",
     "iopub.status.busy": "2021-01-13T19:43:08.508772Z",
     "iopub.status.idle": "2021-01-13T19:43:08.520819Z",
     "shell.execute_reply": "2021-01-13T19:43:08.519587Z",
     "shell.execute_reply.started": "2021-01-13T19:43:08.509197Z"
    }
   },
   "outputs": [],
   "source": [
    "c = kfp.Client()"
   ]
  },
  {
   "cell_type": "code",
   "execution_count": 7,
   "metadata": {
    "execution": {
     "iopub.execute_input": "2021-01-13T19:43:08.522029Z",
     "iopub.status.busy": "2021-01-13T19:43:08.521818Z",
     "iopub.status.idle": "2021-01-13T19:43:08.903934Z",
     "shell.execute_reply": "2021-01-13T19:43:08.903075Z",
     "shell.execute_reply.started": "2021-01-13T19:43:08.522006Z"
    }
   },
   "outputs": [
    {
     "data": {
      "text/html": [
       "<a href=\"/_/pipeline/#/experiments/details/a8fdf7ac-4709-47fb-9231-751a431a9959\" target=\"_blank\" >Experiment details</a>."
      ],
      "text/plain": [
       "<IPython.core.display.HTML object>"
      ]
     },
     "metadata": {},
     "output_type": "display_data"
    },
    {
     "data": {
      "text/html": [
       "<a href=\"/_/pipeline/#/runs/details/bf0969e2-0ead-4c01-9b08-2e05d219a2d1\" target=\"_blank\" >Run details</a>."
      ],
      "text/plain": [
       "<IPython.core.display.HTML object>"
      ]
     },
     "metadata": {},
     "output_type": "display_data"
    },
    {
     "data": {
      "text/plain": [
       "RunPipelineResult(run_id=bf0969e2-0ead-4c01-9b08-2e05d219a2d1)"
      ]
     },
     "execution_count": 7,
     "metadata": {},
     "output_type": "execute_result"
    }
   ],
   "source": [
    "now = datetime.datetime.now().strftime(\"%Y-%m-%d_%H:%M:%S\")\n",
    "c.create_run_from_pipeline_func(\n",
    "    pipeline,\n",
    "    arguments={'n_writes': 50},\n",
    "    run_name=f'MinIO Parallel Writes Test ({namespace}/{now})',\n",
    "    experiment_name=f'MinIO Parallel Writes Test',\n",
    "    namespace=namespace\n",
    ")"
   ]
  }
 ],
 "metadata": {
  "kernelspec": {
   "display_name": "Python 3",
   "language": "python",
   "name": "python3"
  },
  "kubeflow_notebook": {
   "autosnapshot": false,
   "docker_image": "k8scc01covidacr.azurecr.io/jupyterlab-pytorch:c9451340",
   "experiment": {
    "id": "",
    "name": ""
   },
   "experiment_name": "",
   "katib_run": false,
   "pipeline_description": "",
   "pipeline_name": "",
   "snapshot_volumes": false,
   "steps_defaults": [],
   "volume_access_mode": "rwm",
   "volumes": []
  },
  "language_info": {
   "codemirror_mode": {
    "name": "ipython",
    "version": 3
   },
   "file_extension": ".py",
   "mimetype": "text/x-python",
   "name": "python",
   "nbconvert_exporter": "python",
   "pygments_lexer": "ipython3",
   "version": "3.8.6"
  }
 },
 "nbformat": 4,
 "nbformat_minor": 4
}
